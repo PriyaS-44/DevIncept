{
  "nbformat": 4,
  "nbformat_minor": 0,
  "metadata": {
    "colab": {
      "name": "NumPy and Pandas.ipynb",
      "provenance": []
    },
    "kernelspec": {
      "name": "python3",
      "display_name": "Python 3"
    },
    "language_info": {
      "name": "python"
    }
  },
  "cells": [
    {
      "cell_type": "code",
      "metadata": {
        "colab": {
          "base_uri": "https://localhost:8080/"
        },
        "id": "lYph_RHu1BN3",
        "outputId": "13e92856-87fa-4d8f-b98d-84d321e4bcbd"
      },
      "source": [
        "#NUMPY\n",
        "import numpy as np\n",
        "\n",
        "#arr1 is a 1d array \n",
        "arr1=np.array([2,4,6,8,10,12,14,16,18,20])      \n",
        "print(arr1)  \n",
        "\n",
        "#indexing\n",
        "print(arr1[8])  \n",
        "print(arr1[4])\n",
        "\n",
        "#slicing operation on 1D array\n",
        "print(arr1[5:])  \n",
        "print(arr1[:8])\n",
        "print(arr1[5:8])\n",
        "print(arr1[-4:0])\n",
        "print(arr1[1:9:2])\n",
        "\n",
        "#2D array of size 2 rows with 5 column\n",
        "arr2=np.array([[12,13,14,16,18,20],[32,33,34,36,38,40]])\n",
        "print(arr2)\n",
        "\n",
        "#indexing \n",
        "print(arr2[1][4])\n",
        "print(arr2[0][3])\n",
        "\n",
        "#slicing operations in 2D\n",
        "print(arr2[0,2:4])\n",
        "print(arr2[1,0:3] )\n",
        "print(arr2[0:1,2:5])\n",
        "print(arr2[0:2,1:5])\n",
        " \n"
      ],
      "execution_count": 24,
      "outputs": [
        {
          "output_type": "stream",
          "text": [
            "[ 2  4  6  8 10 12 14 16 18 20]\n",
            "18\n",
            "10\n",
            "[12 14 16 18 20]\n",
            "[ 2  4  6  8 10 12 14 16]\n",
            "[12 14 16]\n",
            "[]\n",
            "[ 4  8 12 16]\n",
            "[[12 13 14 16 18 20]\n",
            " [32 33 34 36 38 40]]\n",
            "38\n",
            "16\n",
            "[14 16]\n",
            "[32 33 34]\n",
            "[[14 16 18]]\n",
            "[[13 14 16 18]\n",
            " [33 34 36 38]]\n"
          ],
          "name": "stdout"
        }
      ]
    },
    {
      "cell_type": "code",
      "metadata": {
        "colab": {
          "base_uri": "https://localhost:8080/"
        },
        "id": "-1cN_7K__56v",
        "outputId": "525376e0-0399-4fb0-a0c6-7555e91f178e"
      },
      "source": [
        "#NumPy Functions on 1d array as well as 2D array\n",
        "import numpy as np\n",
        "\n",
        "ones=np.ones(10)\n",
        "zeros=np.zeros(2)\n",
        "print(ones)\n",
        "print(zeros)\n",
        " \n",
        " #1D array\n",
        "data=np.array([100,99,98,97,96,95])\n",
        "print(\"The dimension of the given array :\",data.ndim)\n",
        "print(\"The shape of the of the given array:\",data.shape)\n",
        "print(\"Size:\",data.size)\n",
        "\n",
        "#functions on 2D array\n",
        "multiple=np.array([[52,34,56,78],[10,20,30,40],[99,88,77,66]])\n",
        "print(\"The dimension of the second array:\", multiple.ndim)\n",
        "print(\"The shape of the second array:\",multiple.shape)\n",
        "print(\"Total number of elements:\",multiple.size)\n",
        "\n",
        "#sorting the array and finding the index of a element based on the condition\n",
        "data1=np.array([100,45,87,8,110,55,456])\n",
        "print(np.sort(data1))\n",
        "result=np.where(data%2==0)\n",
        "print(result)\n",
        "\n",
        "#median and Mode functions\n",
        "num_data=([34,56,6,23,23,75,9,100,110,6,35,87])\n",
        "mean=np.mean(num_data)\n",
        "median=np.median(num_data)\n",
        "\n",
        "#mode functions\n",
        "from scipy import stats\n",
        "info=([90,78,6,5,4,55,55,6,78,55,55])\n",
        "result1=stats.mode(info)\n",
        "print(result1)"
      ],
      "execution_count": 42,
      "outputs": [
        {
          "output_type": "stream",
          "text": [
            "[1. 1. 1. 1. 1. 1. 1. 1. 1. 1.]\n",
            "[0. 0.]\n",
            "The dimension of the given array : 1\n",
            "The shape of the of the given array: (6,)\n",
            "Size: 6\n",
            "The dimension of the second array: 2\n",
            "The shape of the second array: (3, 4)\n",
            "Total number of elements: 12\n",
            "[  8  45  55  87 100 110 456]\n",
            "(array([0, 2, 4]),)\n",
            "ModeResult(mode=array([55]), count=array([4]))\n"
          ],
          "name": "stdout"
        }
      ]
    },
    {
      "cell_type": "code",
      "metadata": {
        "colab": {
          "base_uri": "https://localhost:8080/"
        },
        "id": "HnbW4nZeQPDx",
        "outputId": "bd257133-8346-4a6e-a8c5-a30d9acb214d"
      },
      "source": [
        "#PANDAS\n",
        "\n",
        "import pandas as pd\n",
        "list=['cara','sara','john']\n",
        "df=pd.DataFrame(list)\n",
        "print(df)\n",
        "\n",
        "student_data={'Name':['Sara','Cara','Riya','Wyona'],'Age':[18,19,23,22], 'Qualification':['BCA','BSC','MCA','MCOM']}\n",
        "df=pd.DataFrame(student_data)\n",
        "print(df)\n",
        "print(df[['Name','Age']])\n",
        "\n"
      ],
      "execution_count": 51,
      "outputs": [
        {
          "output_type": "stream",
          "text": [
            "      0\n",
            "0  cara\n",
            "1  sara\n",
            "2  john\n",
            "    Name  Age Qualification\n",
            "0   Sara   18           BCA\n",
            "1   Cara   19           BSC\n",
            "2   Riya   23           MCA\n",
            "3  Wyona   22          MCOM\n",
            "    Name  Age\n",
            "0   Sara   18\n",
            "1   Cara   19\n",
            "2   Riya   23\n",
            "3  Wyona   22\n"
          ],
          "name": "stdout"
        }
      ]
    }
  ]
}